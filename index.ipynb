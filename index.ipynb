{
 "cells": [
  {
   "cell_type": "markdown",
   "metadata": {},
   "source": [
    "# Image Super-Resolution\n",
    "## 11685 - Introduction to Deep Learning\n",
    "\n",
    "> Image x4 upscaling using Autoencoder, SRGAN and ESRGAN."
   ]
  },
  {
   "cell_type": "markdown",
   "metadata": {},
   "source": [
    "## Authors:\n",
    "\n",
    "- Yu Zhang\n",
    "- Alejandro Alvarez"
   ]
  },
  {
   "source": [
    "## Description\n",
    "\n",
    "The aim of this project is to implement x4 upscaling on low-resolution images from the dataset [DIV2K](https://data.vision.ee.ethz.ch/cvl/DIV2K/) using three different models:\n",
    "\n",
    "- Convolutional Autoencoder\n",
    "- Super-Resolution Generative Adversarial Network (SRGAN)\n",
    "- Enhanced Super-Resolution Generative Adversarial Network (ESRGAN)"
   ],
   "cell_type": "markdown",
   "metadata": {}
  },
  {
   "source": [
    "## Performance\n",
    "\n",
    "The metrics used for performance evaluation were Peak Signal-to-Noise Ratio ([PSNR](https://en.wikipedia.org/wiki/Peak_signal-to-noise_ratio#:~:text=Peak%20signal%2Dto%2Dnoise%20ratio%20(PSNR)%20is%20an,the%20fidelity%20of%20its%20representation.)) and Structural Similarity Index Measure ([SSIM](https://en.wikipedia.org/wiki/Structural_similarity#:~:text=The%20structural%20similarity%20index%20measure,the%20similarity%20between%20two%20images.))."
   ],
   "cell_type": "markdown",
   "metadata": {}
  },
  {
   "source": [
    "## References\n",
    "\n",
    "- Ledig, C., Theis, L., Huszár, F., Caballero, J., Cunningham, A., Acosta, A., ... & Shi, W. (2017). Photo-realistic single image super-resolution using a generative adversarial network. In Proceedings of the IEEE conference on computer vision and pattern recognition (pp. 4681-4690).\n",
    "\n",
    "- Wang, X., Yu, K., Wu, S., Gu, J., Liu, Y., Dong, C., ... & Change Loy, C. (2018). Esrgan: Enhanced super-resolution generative adversarial networks. In Proceedings of the European Conference on Computer Vision (ECCV) Workshops (pp. 0-0)."
   ],
   "cell_type": "markdown",
   "metadata": {}
  }
 ],
 "metadata": {
  "kernelspec": {
   "display_name": "Python 3.7.10 64-bit ('idl_ubuntu': conda)",
   "language": "python",
   "name": "python3710jvsc74a57bd090fe67124204a04bb5d130edc44abf452890e25295d02a40ff695cfcd1c7864c"
  }
 },
 "nbformat": 4,
 "nbformat_minor": 2
}